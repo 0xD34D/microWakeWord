{
 "cells": [
  {
   "cell_type": "code",
   "execution_count": null,
   "metadata": {},
   "outputs": [],
   "source": [
    "# Install necessary packages\n",
    "!pip install tensorflow\n",
    "!pip install mmap_ninja\n",
    "!pip install pyyaml"
   ]
  },
  {
   "cell_type": "code",
   "execution_count": null,
   "metadata": {},
   "outputs": [],
   "source": [
    "# Save a yaml config that controls the training process\n",
    "import yaml\n",
    "import os\n",
    "\n",
    "config = {}\n",
    "\n",
    "config['train_dir'] = 'trained_models/hey_jarvis'\n",
    "config['features'] = [\n",
    "        {\n",
    "            'features_dir': '/Volumes/MachineLearning/new_style_hey_jarvis/generated_positive',\n",
    "            'sampling_weight': 0.25,\n",
    "            'penalty_weight': 1.0,\n",
    "            'truth': True\n",
    "        },\n",
    "        {\n",
    "            'features_dir': '/Volumes/MachineLearning/new_style_hey_jarvis/generated_negative',\n",
    "            'sampling_weight': 0.25,\n",
    "            'penalty_weight': 3.0,\n",
    "            'truth': False\n",
    "        },\n",
    "        {\n",
    "            'features_dir': '/Volumes/MachineLearning/training_features/background_noise_features_for_training',\n",
    "            'sampling_weight': 0.5,\n",
    "            'penalty_weight': 3.0,\n",
    "            'truth': False\n",
    "        },\n",
    "    ]\n",
    "# Each feature directory should have the following structure:\n",
    "#  testing/\n",
    "#    ragged_mmap_folders_ending_in_mmap\n",
    "#  training/\n",
    "#    ragged_mmap_folders_ending_in_mmap\n",
    "#  validation/\n",
    "#    ragged_mmap_folders_ending_in_mmap\n",
    "config['batch_size'] = 100\n",
    "config['training_steps'] = [100]\n",
    "config['learning_rates'] = [0.001, 0.0005]\n",
    "config['eval_step_interval'] = 100\n",
    "config['target_fpr'] = 0.5\n",
    "config['clip_duration_ms'] = 1490\n",
    "config['window_stride_ms'] = 20\n",
    "config['window_size_ms'] = 30\n",
    "config['sample_rate'] = 16000\n",
    "\n",
    "with open(os.path.join('training_parameters.yaml'), 'w') as file:\n",
    "    documents = yaml.dump(config, file)"
   ]
  },
  {
   "cell_type": "code",
   "execution_count": null,
   "metadata": {},
   "outputs": [],
   "source": [
    "!python -m microwakeword.model_train_eval \\\n",
    "--training_config='training_parameters.yaml' \\\n",
    "--train 1 \\\n",
    "--restore_checkpoint 1 \\\n",
    "inception \\\n",
    "--cnn1_filters '32' \\\n",
    "--cnn1_kernel_sizes '5' \\\n",
    "--cnn1_strides '1' \\\n",
    "--cnn2_filters1 '16,16' \\\n",
    "--cnn2_filters2 '32,64' \\\n",
    "--cnn2_kernel_sizes '3,5' \\\n",
    "--cnn2_strides '1,1' \\\n",
    "--cnn2_use_one_step_stream=1 \\\n",
    "--dropout 0.8 \\\n",
    "--bn_scale 0"
   ]
  }
 ],
 "metadata": {
  "kernelspec": {
   "display_name": ".venv",
   "language": "python",
   "name": "python3"
  },
  "language_info": {
   "codemirror_mode": {
    "name": "ipython",
    "version": 3
   },
   "file_extension": ".py",
   "mimetype": "text/x-python",
   "name": "python",
   "nbconvert_exporter": "python",
   "pygments_lexer": "ipython3",
   "version": "3.10.13"
  }
 },
 "nbformat": 4,
 "nbformat_minor": 2
}
